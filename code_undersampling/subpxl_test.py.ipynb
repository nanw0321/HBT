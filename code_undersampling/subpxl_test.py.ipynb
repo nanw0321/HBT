{
 "cells": [
  {
   "cell_type": "code",
   "execution_count": 1,
   "id": "4d8b6ea6",
   "metadata": {},
   "outputs": [
    {
     "name": "stdout",
     "output_type": "stream",
     "text": [
      "<Managed Device 0>\n"
     ]
    }
   ],
   "source": [
    "from Functions_gpu_subpxl import *\n",
    "import time, argparse\n",
    "from tqdm import tqdm"
   ]
  },
  {
   "cell_type": "code",
   "execution_count": 2,
   "id": "b134907c",
   "metadata": {},
   "outputs": [],
   "source": [
    "# simulation variables\n",
    "numjob = 1 \t\t\t\t# job ID\n",
    "tpulse = 100.\t\t\t# pulse duration (fs)\n",
    "Natom = 1000\t\t\t# number of atoms (photons)\n",
    "dsamp = 10 * 1e-9 \t\t# sample thickness (m)\n",
    "Tmodel = 'Delta'\t\t# incident pulse time structure\n",
    "if_Mono = 1 \t\t\t# monochromator?\n",
    "dirname = './'\n",
    "tlit, I_ratio, nl_t = delta(tpulse, Natom)\n",
    "nl_s = 1/(4*np.pi*spotsig**2)\n",
    "\n",
    "if Tmodel == 'Delta':\t   tlit, I_ratio, nl_t = delta(tpulse, Natom); tpulse = 0.\n",
    "if Tmodel == 'Square':\t\ttlit, I_ratio, nl_t = square(tpulse, Natom)\n",
    "if Tmodel == 'Square_mono': tlit, I_ratio, nl_t = squaremono(tpulse,Natom)\n",
    "if Tmodel == 'Gaus':\t\ttlit, I_ratio, nl_t = Gaus(tpulse,Natom)\n",
    "if Tmodel == 'Gaus_mono':\ttlit, I_ratio, nl_t = Gausmono(tpulse,Natom)\n",
    "if Tmodel == 'SASE':\t\ttlit, I_ratio, nl_t = SASE(tpulse,Natom)\n",
    "if Tmodel == 'SASE_mono':\ttlit, I_ratio, nl_t = SASEmono(tpulse,Natom)\n",
    "\n",
    "# I/O file name\n",
    "fname = dirname+'{}atom_{}fs_{}_{}nm.h5'.format(Natom,tpulse,Tmodel,round(dsamp*1e9,2))\n",
    "# if args.r is not None:\n",
    "# \tfname = dirname+'{}atom_{}fs_{}_{}nm_{}nm_sig.h5'.format(Natom,tpulse,Tmodel,round(dsamp*1e9,2),round(spotsig*1e9,2))\n"
   ]
  },
  {
   "cell_type": "code",
   "execution_count": 3,
   "id": "259932d3",
   "metadata": {},
   "outputs": [],
   "source": [
    "tic = time.time()\n",
    "\n",
    "# generate source information and feed to the gpu\n",
    "(xs,ys,zs,ts,phs,omgs,ks,taus,pols) = sframe(tpulse,Natom,dsamp,tlit,spotsig)\n",
    "\n",
    "rsg = cuda.device_array(shape=(Natom,Npxl,Npxl),dtype='float64')\t\t# holder for source positions\n",
    "Fsg = cuda.device_array(shape=(Natom,Npxl,Npxl),dtype='complex128')\t # holder for field spatial component\n",
    "tag = cuda.device_array(shape=(Natom,Npxl,Npxl),dtype='float64')\t\t# holder for time of arrival\n",
    "\n",
    "rg = cuda.to_device([r])\t\t\t# source-detector distance\n",
    "xsg = cuda.to_device(xs)\t\t\t# source position\n",
    "ysg = cuda.to_device(ys)\t\t\t# \"\"\"\n",
    "zsg = cuda.to_device(zs)\t\t\t# \"\"\"\n",
    "tsg = cuda.to_device(ts)\t\t\t# emission time\n",
    "phsg = cuda.to_device(phs)\t\t\t# phase\n",
    "omgsg = cuda.to_device(omgs)\t\t# angular frequency\n",
    "ksg = cuda.to_device(ks)\t\t\t# wave vector\n",
    "tausg = cuda.to_device(taus)\t\t# lifetime\n",
    "polxg = cuda.to_device(np.cos(pols))\t\t# polarization x\n",
    "polyg = cuda.to_device(np.sin(pols))\t\t# polarization y\n",
    "dtslistg = cuda.to_device(dtslist)  # lifetime for emission lines\n",
    "#strans(xs,ys,zs,ts,phs,omgs,ks,taus,dtslist,xdet,ydet,r)\n",
    "\n",
    "# calculate common time axis (since detector w/subpxl is huge, need to chop up to calculate full time axis)\n",
    "taxis_widnow_size = 100\n",
    "rsming = cuda.device_array(shape=(Natom, taxis_widnow_size,taxis_widnow_size),dtype='float64')\n",
    "tasming = cuda.device_array(shape=(Natom, taxis_widnow_size,taxis_widnow_size),dtype='float64')\n",
    "rsmaxg = cuda.device_array(shape=(Natom, taxis_widnow_size,taxis_widnow_size),dtype='float64')\n",
    "tasmaxg = cuda.device_array(shape=(Natom, taxis_widnow_size,taxis_widnow_size),dtype='float64')\n",
    "\n",
    "xxmin, yymin = np.indices((taxis_widnow_size,taxis_widnow_size))\n",
    "xxmin = xxmin-xxmin.mean(); xxmin = xxmin*subpxlsize\n",
    "yymin = yymin-yymin.mean(); yymin = yymin*subpxlsize\n",
    "\n",
    "xxmax, yymax = np.indices((taxis_widnow_size,taxis_widnow_size))\n",
    "xxmax = xxmax-xxmax.mean(); xxmax = xxmax*subpxlsize + detsize/2\n",
    "yymax = yymax-yymax.mean(); yymax = yymax*subpxlsize + detsize/2\n",
    "\n",
    "xxming = cuda.to_device(xxmin); yyming = cuda.to_device(yymin)\n",
    "xxmaxg = cuda.to_device(xxmax); yymaxg = cuda.to_device(yymax)\n",
    "\n",
    "getaxis[(16,16),(16,16)](rsming,tasming,xsg,ysg,zsg,tsg,xxming,yyming,rg[0])\n",
    "getaxis[(16,16),(16,16)](rsmaxg,tasmaxg,xsg,ysg,zsg,tsg,xxmaxg,yymaxg,rg[0])\n",
    "\n",
    "trange = np.max(tasmaxg)-np.min(tasming) + 16*dtslist.max()\n",
    "mm = int(np.round(trange*1e16)+1)\n",
    "tmm = np.arange(mm)/10\n",
    "taxis = tmm*1e-15 + np.min(tasming)\n",
    "taxisg = cuda.to_device(taxis)\n",
    "\n",
    "# some temporal component for field calculations\n",
    "T2g = cuda.device_array(shape=(mm,Natom),dtype='complex128')\n",
    "temporal[(64,32),(32,32)](T2g,omgsg,taxisg)\n",
    "\n",
    "# loop through sub-pixel detector windows and populate fields\n",
    "Imgg = cuda.device_array(shape=(Npxl,Npxl),dtype='float64')\n",
    "rswg = cuda.device_array(shape=(Natom,Nsubpxl_w,Nsubpxl_w),dtype='float64')\n",
    "Fswg = cuda.device_array(shape=(Natom,Nsubpxl_w,Nsubpxl_w),dtype='complex128')\n",
    "tawg = cuda.device_array(shape=(Natom,Nsubpxl_w,Nsubpxl_w),dtype='float64')\n"
   ]
  },
  {
   "cell_type": "raw",
   "id": "492dad8e",
   "metadata": {},
   "source": [
    "\n",
    "\n",
    "# get pixel positions for current window\n",
    "xlb = iwin*Nsubpxl_w; xub = (iwin+1)*Nsubpxl_w\n",
    "ylb = jwin*Nsubpxl_w; yub = (jwin+1)*Nsubpxl_w\n",
    "\n",
    "\n",
    "\n",
    "# spatial component\n",
    "spatial[(16,16),(32,32)](rswg,Fswg,tawg,xsg,ysg,zsg,ksg,tsg,phsg,\n",
    "                         xdetwg[xlb:xub,ylb:yub],ydetwg[ylb:yub,ylb:yub],rg[0])\n",
    "\n",
    "# field strength calculation in each slice\n",
    "Es1wg = cuda.device_array(shape=(mm,Nsubpxl_w, Nsubpxl_w,2),dtype='complex128')\n",
    "Es2wg = cuda.device_array(shape=(mm,Nsubpxl_w, Nsubpxl_w,2),dtype='complex128')\n",
    "Es3wg = cuda.device_array(shape=(mm,Nsubpxl_w, Nsubpxl_w,2),dtype='complex128')\n",
    "for i in range(mm):\n",
    "    getslice[(32,32),(32,32)](Es1wg[i],Es2wg[i],Es3wg[i],\n",
    "        Fsg[:,xlb:xub,ylb:yub],taxisg[i],T2g[i],\n",
    "        tag[:,xlb:xub,ylb:yub],tausg,polxg,polyg,dtslistg)\n",
    "\n",
    "# summing up field for speckle pattern\n",
    "get_img[(32,32),(32,32)](Imgg[xlb:xub,ylb:yub],Es1wg,Es2wg,Es3wg)"
   ]
  },
  {
   "cell_type": "code",
   "execution_count": 4,
   "id": "a7f0c819",
   "metadata": {},
   "outputs": [
    {
     "name": "stderr",
     "output_type": "stream",
     "text": [
      "row:   0%|                                                                    | 0/20 [00:00<?, ?it/s]\n",
      "column:   0%|                                                                 | 0/20 [00:00<?, ?it/s]\u001b[A\n",
      "column:   5%|██▊                                                      | 1/20 [00:28<09:00, 28.45s/it]\u001b[A\n",
      "column:  10%|█████▋                                                   | 2/20 [00:57<08:33, 28.55s/it]\u001b[A\n",
      "column:  15%|████████▌                                                | 3/20 [01:25<08:04, 28.53s/it]\u001b[A\n",
      "row:   0%|                                                                    | 0/20 [01:25<?, ?it/s]\n"
     ]
    },
    {
     "ename": "CudaAPIError",
     "evalue": "[700] Call to cuMemcpyDtoH results in UNKNOWN_CUDA_ERROR",
     "output_type": "error",
     "traceback": [
      "\u001b[1;31m---------------------------------------------------------------------------\u001b[0m",
      "\u001b[1;31mCudaAPIError\u001b[0m                              Traceback (most recent call last)",
      "\u001b[1;32m~\\AppData\\Local\\Temp/ipykernel_1068/396153598.py\u001b[0m in \u001b[0;36m<module>\u001b[1;34m\u001b[0m\n\u001b[0;32m     13\u001b[0m         \u001b[1;31m# spatial component\u001b[0m\u001b[1;33m\u001b[0m\u001b[1;33m\u001b[0m\u001b[1;33m\u001b[0m\u001b[0m\n\u001b[0;32m     14\u001b[0m         spatial[(16,16),(32,32)](rswg,Fswg,tawg,xsg,ysg,zsg,ksg,tsg,phsg,\n\u001b[1;32m---> 15\u001b[1;33m                             xdetg[xlb:xub,ylb:yub],ydetg[ylb:yub,ylb:yub],rg[0])\n\u001b[0m\u001b[0;32m     16\u001b[0m \u001b[1;33m\u001b[0m\u001b[0m\n\u001b[0;32m     17\u001b[0m         \u001b[1;31m# field strength calculation in each slice\u001b[0m\u001b[1;33m\u001b[0m\u001b[1;33m\u001b[0m\u001b[1;33m\u001b[0m\u001b[0m\n",
      "\u001b[1;32m~\\anaconda3\\lib\\site-packages\\numba\\cuda\\cudadrv\\devices.py\u001b[0m in \u001b[0;36m_require_cuda_context\u001b[1;34m(*args, **kws)\u001b[0m\n\u001b[0;32m    222\u001b[0m     \u001b[1;32mdef\u001b[0m \u001b[0m_require_cuda_context\u001b[0m\u001b[1;33m(\u001b[0m\u001b[1;33m*\u001b[0m\u001b[0margs\u001b[0m\u001b[1;33m,\u001b[0m \u001b[1;33m**\u001b[0m\u001b[0mkws\u001b[0m\u001b[1;33m)\u001b[0m\u001b[1;33m:\u001b[0m\u001b[1;33m\u001b[0m\u001b[1;33m\u001b[0m\u001b[0m\n\u001b[0;32m    223\u001b[0m         \u001b[1;32mwith\u001b[0m \u001b[0m_runtime\u001b[0m\u001b[1;33m.\u001b[0m\u001b[0mensure_context\u001b[0m\u001b[1;33m(\u001b[0m\u001b[1;33m)\u001b[0m\u001b[1;33m:\u001b[0m\u001b[1;33m\u001b[0m\u001b[1;33m\u001b[0m\u001b[0m\n\u001b[1;32m--> 224\u001b[1;33m             \u001b[1;32mreturn\u001b[0m \u001b[0mfn\u001b[0m\u001b[1;33m(\u001b[0m\u001b[1;33m*\u001b[0m\u001b[0margs\u001b[0m\u001b[1;33m,\u001b[0m \u001b[1;33m**\u001b[0m\u001b[0mkws\u001b[0m\u001b[1;33m)\u001b[0m\u001b[1;33m\u001b[0m\u001b[1;33m\u001b[0m\u001b[0m\n\u001b[0m\u001b[0;32m    225\u001b[0m \u001b[1;33m\u001b[0m\u001b[0m\n\u001b[0;32m    226\u001b[0m     \u001b[1;32mreturn\u001b[0m \u001b[0m_require_cuda_context\u001b[0m\u001b[1;33m\u001b[0m\u001b[1;33m\u001b[0m\u001b[0m\n",
      "\u001b[1;32m~\\anaconda3\\lib\\site-packages\\numba\\cuda\\cudadrv\\devicearray.py\u001b[0m in \u001b[0;36m__getitem__\u001b[1;34m(self, item)\u001b[0m\n\u001b[0;32m    532\u001b[0m     \u001b[1;33m@\u001b[0m\u001b[0mdevices\u001b[0m\u001b[1;33m.\u001b[0m\u001b[0mrequire_context\u001b[0m\u001b[1;33m\u001b[0m\u001b[1;33m\u001b[0m\u001b[0m\n\u001b[0;32m    533\u001b[0m     \u001b[1;32mdef\u001b[0m \u001b[0m__getitem__\u001b[0m\u001b[1;33m(\u001b[0m\u001b[0mself\u001b[0m\u001b[1;33m,\u001b[0m \u001b[0mitem\u001b[0m\u001b[1;33m)\u001b[0m\u001b[1;33m:\u001b[0m\u001b[1;33m\u001b[0m\u001b[1;33m\u001b[0m\u001b[0m\n\u001b[1;32m--> 534\u001b[1;33m         \u001b[1;32mreturn\u001b[0m \u001b[0mself\u001b[0m\u001b[1;33m.\u001b[0m\u001b[0m_do_getitem\u001b[0m\u001b[1;33m(\u001b[0m\u001b[0mitem\u001b[0m\u001b[1;33m)\u001b[0m\u001b[1;33m\u001b[0m\u001b[1;33m\u001b[0m\u001b[0m\n\u001b[0m\u001b[0;32m    535\u001b[0m \u001b[1;33m\u001b[0m\u001b[0m\n\u001b[0;32m    536\u001b[0m     \u001b[1;32mdef\u001b[0m \u001b[0mgetitem\u001b[0m\u001b[1;33m(\u001b[0m\u001b[0mself\u001b[0m\u001b[1;33m,\u001b[0m \u001b[0mitem\u001b[0m\u001b[1;33m,\u001b[0m \u001b[0mstream\u001b[0m\u001b[1;33m=\u001b[0m\u001b[1;36m0\u001b[0m\u001b[1;33m)\u001b[0m\u001b[1;33m:\u001b[0m\u001b[1;33m\u001b[0m\u001b[1;33m\u001b[0m\u001b[0m\n",
      "\u001b[1;32m~\\anaconda3\\lib\\site-packages\\numba\\cuda\\cudadrv\\devicearray.py\u001b[0m in \u001b[0;36m_do_getitem\u001b[1;34m(self, item, stream)\u001b[0m\n\u001b[0;32m    551\u001b[0m                 \u001b[1;31m# Element indexing\u001b[0m\u001b[1;33m\u001b[0m\u001b[1;33m\u001b[0m\u001b[1;33m\u001b[0m\u001b[0m\n\u001b[0;32m    552\u001b[0m                 \u001b[0mhostary\u001b[0m \u001b[1;33m=\u001b[0m \u001b[0mnp\u001b[0m\u001b[1;33m.\u001b[0m\u001b[0mempty\u001b[0m\u001b[1;33m(\u001b[0m\u001b[1;36m1\u001b[0m\u001b[1;33m,\u001b[0m \u001b[0mdtype\u001b[0m\u001b[1;33m=\u001b[0m\u001b[0mself\u001b[0m\u001b[1;33m.\u001b[0m\u001b[0mdtype\u001b[0m\u001b[1;33m)\u001b[0m\u001b[1;33m\u001b[0m\u001b[1;33m\u001b[0m\u001b[0m\n\u001b[1;32m--> 553\u001b[1;33m                 _driver.device_to_host(dst=hostary, src=newdata,\n\u001b[0m\u001b[0;32m    554\u001b[0m                                        \u001b[0msize\u001b[0m\u001b[1;33m=\u001b[0m\u001b[0mself\u001b[0m\u001b[1;33m.\u001b[0m\u001b[0m_dummy\u001b[0m\u001b[1;33m.\u001b[0m\u001b[0mitemsize\u001b[0m\u001b[1;33m,\u001b[0m\u001b[1;33m\u001b[0m\u001b[1;33m\u001b[0m\u001b[0m\n\u001b[0;32m    555\u001b[0m                                        stream=stream)\n",
      "\u001b[1;32m~\\anaconda3\\lib\\site-packages\\numba\\cuda\\cudadrv\\driver.py\u001b[0m in \u001b[0;36mdevice_to_host\u001b[1;34m(dst, src, size, stream)\u001b[0m\n\u001b[0;32m   2401\u001b[0m         \u001b[0mfn\u001b[0m \u001b[1;33m=\u001b[0m \u001b[0mdriver\u001b[0m\u001b[1;33m.\u001b[0m\u001b[0mcuMemcpyDtoH\u001b[0m\u001b[1;33m\u001b[0m\u001b[1;33m\u001b[0m\u001b[0m\n\u001b[0;32m   2402\u001b[0m \u001b[1;33m\u001b[0m\u001b[0m\n\u001b[1;32m-> 2403\u001b[1;33m     \u001b[0mfn\u001b[0m\u001b[1;33m(\u001b[0m\u001b[0mhost_pointer\u001b[0m\u001b[1;33m(\u001b[0m\u001b[0mdst\u001b[0m\u001b[1;33m)\u001b[0m\u001b[1;33m,\u001b[0m \u001b[0mdevice_pointer\u001b[0m\u001b[1;33m(\u001b[0m\u001b[0msrc\u001b[0m\u001b[1;33m)\u001b[0m\u001b[1;33m,\u001b[0m \u001b[0msize\u001b[0m\u001b[1;33m,\u001b[0m \u001b[1;33m*\u001b[0m\u001b[0mvarargs\u001b[0m\u001b[1;33m)\u001b[0m\u001b[1;33m\u001b[0m\u001b[1;33m\u001b[0m\u001b[0m\n\u001b[0m\u001b[0;32m   2404\u001b[0m \u001b[1;33m\u001b[0m\u001b[0m\n\u001b[0;32m   2405\u001b[0m \u001b[1;33m\u001b[0m\u001b[0m\n",
      "\u001b[1;32m~\\anaconda3\\lib\\site-packages\\numba\\cuda\\cudadrv\\driver.py\u001b[0m in \u001b[0;36msafe_cuda_api_call\u001b[1;34m(*args)\u001b[0m\n\u001b[0;32m    298\u001b[0m             \u001b[0m_logger\u001b[0m\u001b[1;33m.\u001b[0m\u001b[0mdebug\u001b[0m\u001b[1;33m(\u001b[0m\u001b[1;34m'call driver api: %s'\u001b[0m\u001b[1;33m,\u001b[0m \u001b[0mlibfn\u001b[0m\u001b[1;33m.\u001b[0m\u001b[0m__name__\u001b[0m\u001b[1;33m)\u001b[0m\u001b[1;33m\u001b[0m\u001b[1;33m\u001b[0m\u001b[0m\n\u001b[0;32m    299\u001b[0m             \u001b[0mretcode\u001b[0m \u001b[1;33m=\u001b[0m \u001b[0mlibfn\u001b[0m\u001b[1;33m(\u001b[0m\u001b[1;33m*\u001b[0m\u001b[0margs\u001b[0m\u001b[1;33m)\u001b[0m\u001b[1;33m\u001b[0m\u001b[1;33m\u001b[0m\u001b[0m\n\u001b[1;32m--> 300\u001b[1;33m             \u001b[0mself\u001b[0m\u001b[1;33m.\u001b[0m\u001b[0m_check_error\u001b[0m\u001b[1;33m(\u001b[0m\u001b[0mfname\u001b[0m\u001b[1;33m,\u001b[0m \u001b[0mretcode\u001b[0m\u001b[1;33m)\u001b[0m\u001b[1;33m\u001b[0m\u001b[1;33m\u001b[0m\u001b[0m\n\u001b[0m\u001b[0;32m    301\u001b[0m         \u001b[1;32mreturn\u001b[0m \u001b[0msafe_cuda_api_call\u001b[0m\u001b[1;33m\u001b[0m\u001b[1;33m\u001b[0m\u001b[0m\n\u001b[0;32m    302\u001b[0m \u001b[1;33m\u001b[0m\u001b[0m\n",
      "\u001b[1;32m~\\anaconda3\\lib\\site-packages\\numba\\cuda\\cudadrv\\driver.py\u001b[0m in \u001b[0;36m_check_error\u001b[1;34m(self, fname, retcode)\u001b[0m\n\u001b[0;32m    333\u001b[0m                     \u001b[0m_logger\u001b[0m\u001b[1;33m.\u001b[0m\u001b[0mcritical\u001b[0m\u001b[1;33m(\u001b[0m\u001b[0mmsg\u001b[0m\u001b[1;33m,\u001b[0m \u001b[0m_getpid\u001b[0m\u001b[1;33m(\u001b[0m\u001b[1;33m)\u001b[0m\u001b[1;33m,\u001b[0m \u001b[0mself\u001b[0m\u001b[1;33m.\u001b[0m\u001b[0mpid\u001b[0m\u001b[1;33m)\u001b[0m\u001b[1;33m\u001b[0m\u001b[1;33m\u001b[0m\u001b[0m\n\u001b[0;32m    334\u001b[0m                     \u001b[1;32mraise\u001b[0m \u001b[0mCudaDriverError\u001b[0m\u001b[1;33m(\u001b[0m\u001b[1;34m\"CUDA initialized before forking\"\u001b[0m\u001b[1;33m)\u001b[0m\u001b[1;33m\u001b[0m\u001b[1;33m\u001b[0m\u001b[0m\n\u001b[1;32m--> 335\u001b[1;33m             \u001b[1;32mraise\u001b[0m \u001b[0mCudaAPIError\u001b[0m\u001b[1;33m(\u001b[0m\u001b[0mretcode\u001b[0m\u001b[1;33m,\u001b[0m \u001b[0mmsg\u001b[0m\u001b[1;33m)\u001b[0m\u001b[1;33m\u001b[0m\u001b[1;33m\u001b[0m\u001b[0m\n\u001b[0m\u001b[0;32m    336\u001b[0m \u001b[1;33m\u001b[0m\u001b[0m\n\u001b[0;32m    337\u001b[0m     \u001b[1;32mdef\u001b[0m \u001b[0mget_device\u001b[0m\u001b[1;33m(\u001b[0m\u001b[0mself\u001b[0m\u001b[1;33m,\u001b[0m \u001b[0mdevnum\u001b[0m\u001b[1;33m=\u001b[0m\u001b[1;36m0\u001b[0m\u001b[1;33m)\u001b[0m\u001b[1;33m:\u001b[0m\u001b[1;33m\u001b[0m\u001b[1;33m\u001b[0m\u001b[0m\n",
      "\u001b[1;31mCudaAPIError\u001b[0m: [700] Call to cuMemcpyDtoH results in UNKNOWN_CUDA_ERROR"
     ]
    }
   ],
   "source": [
    "# calculate field in each time slice in each detector window\n",
    "xdetg = cuda.to_device(np.ascontiguousarray(xdetsub))\n",
    "ydetg = cuda.to_device(np.ascontiguousarray(ydetsub))\n",
    "for iwin in tqdm(range(nwindow), desc='row'):\n",
    "    for jwin in tqdm(range(nwindow), desc='column'):\n",
    "        # get pixel positions for current window\n",
    "        xlb = iwin*Nsubpxl_w; xub = (iwin+1)*Nsubpxl_w\n",
    "        ylb = jwin*Nsubpxl_w; yub = (jwin+1)*Nsubpxl_w\n",
    "\n",
    "#         # (re)initialize speckle pattern for current window\n",
    "#         imgwg = cuda.device_array(shape=(Nsubpxl_w,Nsubpxl_w),dtype='float64')\n",
    "\n",
    "        # spatial component\n",
    "        spatial[(16,16),(32,32)](rswg,Fswg,tawg,xsg,ysg,zsg,ksg,tsg,phsg,\n",
    "                            xdetg[xlb:xub,ylb:yub],ydetg[ylb:yub,ylb:yub],rg[0])\n",
    "\n",
    "        # field strength calculation in each slice\n",
    "        Es1wg = cuda.device_array(shape=(mm,Nsubpxl_w, Nsubpxl_w,2),dtype='complex128')\n",
    "        Es2wg = cuda.device_array(shape=(mm,Nsubpxl_w, Nsubpxl_w,2),dtype='complex128')\n",
    "        Es3wg = cuda.device_array(shape=(mm,Nsubpxl_w, Nsubpxl_w,2),dtype='complex128')\n",
    "        for i in range(mm):\n",
    "            getslice[(32,32),(32,32)](Es1wg[i],Es2wg[i],Es3wg[i],\n",
    "                Fsg[:,xlb:xub,ylb:yub],taxisg[i],T2g[i],\n",
    "                tag[:,xlb:xub,ylb:yub],tausg,polxg,polyg,dtslistg)\n",
    "\n",
    "        # summing up field for speckle pattern\n",
    "        get_img[(32,32),(32,32)](Imgg[xlb:xub,ylb:yub],Es1wg,Es2wg,Es3wg)\n",
    "\n",
    "img = Imgg.copy_to_host()\n",
    "# recombine sub-pixels to get real pixel intensity (numerical integration)\n",
    "sum1 = img.reshape(Npxl,nsubpxl,Nsubpxl).sum(axis=1)\n",
    "sum2 = (sum1.T.reshape(Npxl,nsubpxl,Npxl).sum(axis=1)).T\n",
    "contrast = (sub2.std()/sum2.mean())**2\n",
    "\n",
    "toc = time.time()\n",
    "print('\tjob',numjob,',{} ms,'.format(round((toc-tic)*1e3,2)),mm,'slices')\n"
   ]
  },
  {
   "cell_type": "raw",
   "id": "dfe0484a",
   "metadata": {},
   "source": [
    "# I/O\n",
    "with h5py.File(fname,'a') as f:\n",
    "\tgrp = f.create_group('{}'.format(numjob))\n",
    "\tgrp.create_dataset('source', data=np.stack([xs,ys,zs,tlit,ts,phs,omgs,ks,taus,pols]))\n",
    "\tgrp.create_dataset('pattern', data=img)\n",
    "\tgrp.create_dataset('pattern_sub', data=sum2)\n",
    "\tgrp.create_dataset('contrast', data=[contrast])\n",
    "\tgrp.create_dataset('others', data=[spotsig, nl_t, nl_s])\n"
   ]
  }
 ],
 "metadata": {
  "kernelspec": {
   "display_name": "Python 3 (ipykernel)",
   "language": "python",
   "name": "python3"
  },
  "language_info": {
   "codemirror_mode": {
    "name": "ipython",
    "version": 3
   },
   "file_extension": ".py",
   "mimetype": "text/x-python",
   "name": "python",
   "nbconvert_exporter": "python",
   "pygments_lexer": "ipython3",
   "version": "3.8.12"
  }
 },
 "nbformat": 4,
 "nbformat_minor": 5
}
