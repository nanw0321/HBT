{
 "cells": [
  {
   "cell_type": "code",
   "execution_count": 4,
   "id": "bfc8fc9d",
   "metadata": {},
   "outputs": [],
   "source": [
    "import h5py\n",
    "import numpy as np\n",
    "import matplotlib.pyplot as plt"
   ]
  },
  {
   "cell_type": "code",
   "execution_count": 10,
   "id": "de072093",
   "metadata": {},
   "outputs": [],
   "source": [
    "# load\n",
    "njobs = 100\n",
    "contrasts = []\n",
    "spotsigs = []\n",
    "nl_ss = []\n",
    "\n",
    "with h5py.File('Gaussian_non-linear_N=1000_10.0nm/Gaussian_r=1_sig=1-100um.h5','r') as f:\n",
    "    for njob in range(njobs):\n",
    "        contrasts.append(f['{}/contrast'.format(njob)][0])\n",
    "        others = f['{}/others'.format(njob)][:]\n",
    "        spotsigs.append(others[0])\n",
    "        nl_ss.append(others[2])\n"
   ]
  },
  {
   "cell_type": "code",
   "execution_count": 9,
   "id": "dd3a1221",
   "metadata": {},
   "outputs": [
    {
     "data": {
      "text/plain": [
       "Text(0, 0.5, '$S_S$')"
      ]
     },
     "execution_count": 9,
     "metadata": {},
     "output_type": "execute_result"
    },
    {
     "data": {
      "image/png": "[encoded data removed]",
      "text/plain": [
       "<Figure size 432x288 with 1 Axes>"
      ]
     },
     "metadata": {
      "needs_background": "light"
     },
     "output_type": "display_data"
    }
   ],
   "source": [
    "plt.figure()\n",
    "plt.plot(contrasts, nl_ss, '.')\n",
    "plt.xscale('log'); plt.yscale('log')\n",
    "plt.xlabel('contrast'); plt.ylabel(r'$S_S$')\n"
   ]
  }
 ],
 "metadata": {
  "kernelspec": {
   "display_name": "Python 3 (ipykernel)",
   "language": "python",
   "name": "python3"
  },
  "language_info": {
   "codemirror_mode": {
    "name": "ipython",
    "version": 3
   },
   "file_extension": ".py",
   "mimetype": "text/x-python",
   "name": "python",
   "nbconvert_exporter": "python",
   "pygments_lexer": "ipython3",
   "version": "3.8.12"
  }
 },
 "nbformat": 4,
 "nbformat_minor": 5
}
