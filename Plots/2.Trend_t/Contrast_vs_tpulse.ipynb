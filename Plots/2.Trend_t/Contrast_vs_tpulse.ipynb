{
 "cells": [
  {
   "cell_type": "code",
   "execution_count": 1,
   "metadata": {},
   "outputs": [
    {
     "data": {
      "text/plain": [
       "<matplotlib.pyplot._IonContext at 0x1d614585d90>"
      ]
     },
     "execution_count": 1,
     "metadata": {},
     "output_type": "execute_result"
    }
   ],
   "source": [
    "import numpy as np\n",
    "import h5py, math\n",
    "import matplotlib as mpl\n",
    "import matplotlib.pyplot as plt\n",
    "from mpl_toolkits.axes_grid1 import make_axes_locatable\n",
    "plt.ion()\n"
   ]
  },
  {
   "cell_type": "code",
   "execution_count": 2,
   "metadata": {},
   "outputs": [],
   "source": [
    "# functions\n",
    "def fit_non_linear(tlitlist):\n",
    "    (mm,nn) = tlitlist.shape\n",
    "    non_linearity = np.zeros(mm)\n",
    "    for i in range(mm):\n",
    "        tlit = tlitlist[i]\n",
    "        (bincount, bins) = np.histogram(tlit,bins=50)\n",
    "        tlb = bins[np.argwhere(bincount>=2)[0,0]]\n",
    "        tub = bins[np.argwhere(bincount>=2)[-1,0]+1]\n",
    "        tpulse = tub-tlb\n",
    "        nbins = int(tpulse*10)+1\n",
    "        (I_t, time) = np.histogram(tlit,bins=nbins)\n",
    "        I_t = I_t/I_t.sum()\n",
    "        non_linearity[i] = np.sum(I_t**2)\n",
    "    return non_linearity\n",
    "\n",
    "def read_data(Tmodel, njob, tpulse_list):\n",
    "    dirname = '{}/'.format(Tmodel)\n",
    "    # holders\n",
    "    tlist = []; contlist = []; tpulselist = []\n",
    "    for i, tpulse in enumerate(tpulse_list):\n",
    "        fname = dirname + '{}atom_{}fs_{}_{}nm.h5'.format(Natom,tpulse,Tmodel,round(dsamp*1e9,2))\n",
    "        with h5py.File(fname,'r') as f:\n",
    "            for numjob in range(njob):\n",
    "                tlit = f['{}/source'.format(numjob)][3]\n",
    "                contrast = f['{}/contrast'.format(numjob)][0]\n",
    "                # fit for real pulse duration\n",
    "                (bincount, bins) = np.histogram(tlit, bins=50)\n",
    "                tlb = bins[np.argwhere(bincount>=2)[0,0]]\n",
    "                tub = bins[np.argwhere(bincount>=2)[-1,0]+1]\n",
    "                tlist.append(tub-tlb)\n",
    "                contlist.append(contrast)\n",
    "                tpulselist.append(tpulse)\n",
    "    tlist = np.asarray(tlist)\n",
    "    contlist = np.asarray(contlist)\n",
    "    tpulselist = np.asarray(tpulselist)\n",
    "    return tlist, contlist, tpulselist\n",
    "\n",
    "def fit_data(tlist, contlist, binedges):\n",
    "    taxis, terr, cont, cerr = ([] for i in range(4))\n",
    "    for i in range(binedges.size-1):\n",
    "        index = np.argwhere((tlist>=binedges[i])&(tlist<binedges[i+1]))\n",
    "        if index.size == 0: continue\n",
    "        tt = np.ravel(tlist[index])\n",
    "        cc = np.ravel(contlist[index])\n",
    "        taxis.append(tt.mean())\n",
    "        terr.append(np.sqrt(np.cov(tt, aweights=1/tt)))\n",
    "        cont.append(cc.mean())\n",
    "        cerr.append(np.sqrt(np.cov(cc, aweights=1/cc)))\n",
    "    taxis = np.asarray(taxis)\n",
    "    terr = np.asarray(terr)\n",
    "    cont = np.asarray(cont)\n",
    "    cerr = np.asarray(cerr)\n",
    "    return taxis, terr, cont, cerr\n",
    "    "
   ]
  },
  {
   "cell_type": "code",
   "execution_count": 9,
   "metadata": {},
   "outputs": [],
   "source": [
    "# data params\n",
    "njob = 36\n",
    "tpulsemin = 0.\n",
    "tpulsemax = 48.\n",
    "tpulse_list = np.arange(0,48)*1.\n",
    "Natom = 1000\n",
    "dsamp = 10. * 1e-9\n",
    "Tmodels = ['Square','Square_mono','Gaus','Gaus_mono','SASE','SASE_mono']\n",
    "labels = ['Square', 'Square', 'Gaussian', 'Gaussian', 'SASE', 'SASE']\n",
    "colors = ['sandybrown','sandybrown','grey','grey','mediumseagreen','mediumseagreen']\n"
   ]
  },
  {
   "cell_type": "code",
   "execution_count": 4,
   "metadata": {},
   "outputs": [
    {
     "name": "stderr",
     "output_type": "stream",
     "text": [
      "C:\\Users\\nanw0\\AppData\\Local\\Temp/ipykernel_9660/2277896304.py:47: RuntimeWarning: divide by zero encountered in true_divide\n",
      "  terr.append(np.sqrt(np.cov(tt, aweights=1/tt)))\n",
      "C:\\Users\\nanw0\\anaconda3\\lib\\site-packages\\numpy\\lib\\function_base.py:412: RuntimeWarning: invalid value encountered in multiply\n",
      "  avg = np.multiply(a, wgt, dtype=result_dtype).sum(axis)/scl\n",
      "C:\\Users\\nanw0\\anaconda3\\lib\\site-packages\\numpy\\lib\\function_base.py:2529: RuntimeWarning: invalid value encountered in double_scalars\n",
      "  fact = w_sum - ddof*sum(w*aweights)/w_sum\n"
     ]
    }
   ],
   "source": [
    "# read data\n",
    "taxii, terrs, conts, cerrs = ([] for i in range(4))\n",
    "binedges = np.linspace(tpulsemin,tpulsemax,2*int(tpulsemax-tpulsemin)+1)\n",
    "for Tmodel in Tmodels:\n",
    "    tlist, contlist, tpulselist = read_data(Tmodel, njob, tpulse_list)\n",
    "    taxis, terr, cont, cerr = fit_data(tpulselist, contlist, binedges)\n",
    "    taxii.append(taxis); terrs.append(terr)\n",
    "    conts.append(cont); cerrs.append(cerr)"
   ]
  },
  {
   "cell_type": "code",
   "execution_count": 5,
   "metadata": {},
   "outputs": [],
   "source": [
    "# measurement\n",
    "PL95 = np.array([7, 11, 14, 35]);\n",
    "PL95E = np.array([3,5,7,15]);\n",
    "C95 = np.array([0.337, 0.312, 0.310, 0.305])-0.270;\n",
    "C95E = np.array([0.01, 0.005, 0.006, 0.01]);\n",
    "\n",
    "PL72 = np.array([15,40])\n",
    "PL72E = np.array([6, 15])\n",
    "C72 = np.array([0.279,0.265]) - 0.260\n",
    "C72E = np.array([0.006,0.002])\n"
   ]
  },
  {
   "cell_type": "code",
   "execution_count": 15,
   "metadata": {},
   "outputs": [
    {
     "name": "stderr",
     "output_type": "stream",
     "text": [
      "C:\\Users\\nanw0\\AppData\\Local\\Temp/ipykernel_9660/3542161123.py:12: UserWarning: marker is redundantly defined by the 'marker' keyword argument and the fmt string \".\" (-> marker='.'). The keyword argument will take precedence.\n",
      "  ax2.errorbar(PL95, C95, C95E, PL95E, fmt='.', marker='s', color='r', markersize=8, label='9.5 keV')\n",
      "C:\\Users\\nanw0\\AppData\\Local\\Temp/ipykernel_9660/3542161123.py:13: UserWarning: marker is redundantly defined by the 'marker' keyword argument and the fmt string \".\" (-> marker='.'). The keyword argument will take precedence.\n",
      "  ax2.errorbar(PL72, C72, C72, PL72E, fmt='.', marker='s', color='b', markersize=8, label='7.2 keV')\n"
     ]
    },
    {
     "data": {
      "image/png": "[encoded data removed]",
      "text/plain": [
       "<Figure size 432x432 with 2 Axes>"
      ]
     },
     "metadata": {
      "needs_background": "light"
     },
     "output_type": "display_data"
    }
   ],
   "source": [
    "# plot simulation\n",
    "fig, (ax1, ax2) = plt.subplots(2, sharex=True, figsize=(6,6))\n",
    "for i, Tmodel in enumerate(Tmodels):\n",
    "    if not Tmodel.endswith('mono'):\n",
    "        ax1.errorbar(taxii[i], conts[i], yerr=cerrs[i], xerr=terrs[i],\n",
    "                     label=labels[i], fmt='.', color=colors[i])\n",
    "    else:\n",
    "        ax2.errorbar(taxii[i], conts[i], yerr=cerrs[i], xerr=terrs[i],\n",
    "                     label=labels[i], fmt='.', color=colors[i])\n",
    "\n",
    "# plot measurement\n",
    "ax2.errorbar(PL95, C95, C95E, PL95E, fmt='.', marker='s', color='r', markersize=8, label='9.5 keV')\n",
    "ax2.errorbar(PL72, C72, C72, PL72E, fmt='.', marker='s', color='b', markersize=8, label='7.2 keV')\n",
    "\n",
    "# set plot style      \n",
    "ax1.legend(frameon=False); ax2.legend(frameon=False)\n",
    "ax1.set_xlabel('pulse duration (fs)'); ax2.set_xlabel('pulse duration (fs)')\n",
    "ax1.set_ylabel('contrast'); ax2.set_ylabel('contrast')\n",
    "ax1.set_xlim([-1,49])\n",
    "plt.axis('tight')\n",
    "\n",
    "ax2.axes.set_yticks([0,0.04,0.08])\n",
    "ax2.axes.set_ylabel('contrast')\n",
    "ax2.axes.set_xlabel('pulse duration (fs)')\n",
    "ax2.set_xlim([-1,49])\n",
    "plt.tight_layout()\n",
    "plt.savefig('trend_tpulse.eps', transparent=True)"
   ]
  },
  {
   "cell_type": "raw",
   "metadata": {},
   "source": [
    "import matplotlib.ticker as ticker\n",
    "from matplotlib.ticker import LogFormatterSciNotation\n",
    "\n",
    "class CustomTicker(LogFormatterSciNotation):\n",
    "    def __call__(self, x, pos=None):\n",
    "        if x not in [0.01,0.02,0.03,0.04,0.06,0.1]:\n",
    "            return LogFormatterSciNotation.__call__(self,x, pos=None)\n",
    "        else:\n",
    "            return \"{x:g}\".format(x=x)\n",
    "\n",
    "Natom = 1000\n",
    "dsamp = 10.\n",
    "nbatch = 50\n",
    "\n",
    "(contGaus, tGaus) = read_trend('Gaussian',nbatch)\n",
    "(contSASE, tSASE) = read_trend('SASE',nbatch)\n",
    "(contSqr, tSqr) = read_trend('Square',nbatch)\n",
    "\n",
    "binedges = np.linspace(0,50,51)\n",
    "tpulsemin = 0\n",
    "tpulsemax = 50\n",
    "\n",
    "mpl.rcParams.update({'font.size': 14})\n",
    "scale = 'linear'\n",
    "\n",
    "fig, (ax1, ax2) = plt.subplots(2,sharex=True,figsize=(6,6))\n",
    "#fig.suptitle('Horizontally stacked subplots')\n",
    "\n",
    "(ttGaus, ccGaus, stdGaus) = plot_trend(tGaus,binedges,contGaus,'r','Gaussian')\n",
    "(ttSASE, ccSASE, stdSASE) = plot_trend(tSASE,binedges,contSASE,'g','SASE')\n",
    "(ttSqr, ccSqr, stdSqr) = plot_trend(tSqr,binedges,contSqr,'b','Square')\n",
    "\n",
    "ax1.errorbar(ttGaus, ccGaus, yerr=stdGaus, fmt='.',color='grey',label='Gaussian')\n",
    "ax1.errorbar(ttSASE, ccSASE, yerr=stdSASE, fmt='.',color='mediumseagreen',label='SASE')\n",
    "ax1.errorbar(ttSqr, ccSqr, yerr=stdSqr, fmt='.',color='sandybrown',label='Square')\n",
    "\n",
    "ax1.axes.set_xlim([tpulsemin,tpulsemax])\n",
    "if scale == 'log':\n",
    "    ax1.set_yscale('log')\n",
    "\n",
    "ax1.axes.set_ylabel('contrast')\n",
    "ax1.legend(frameon=False)\n",
    "#ax1.axes.get_xaxis().set_visible(False)\n",
    "\n",
    "\n",
    "\n",
    "# plot 2\n",
    "(contGaus, tGaus) = read_trend('Gaussmono',nbatch)\n",
    "(contSASE, tSASE) = read_trend('SASEmono',nbatch)\n",
    "(contSqr, tSqr) = read_trend('Squaremono',nbatch)\n",
    "\n",
    "binedges = np.linspace(0,50,51)\n",
    "tpulsemin = 0\n",
    "tpulsemax = 50\n",
    "\n",
    "(ttGaus, ccGaus, stdGaus) = plot_trend(tGaus,binedges,contGaus,'r','Gaussian')\n",
    "(ttSASE, ccSASE, stdSASE) = plot_trend(tSASE,binedges,contSASE,'g','SASE')\n",
    "(ttSqr, ccSqr, stdSqr) = plot_trend(tSqr,binedges,contSqr,'b','Square')\n",
    "\n",
    "#ax2.errorbar(ttGaus, ccGaus, yerr=stdGaus, fmt='r.',label='Gaussian+mono')\n",
    "#ax2.errorbar(ttSASE, ccSASE, yerr=stdSASE, fmt='g.',label='SASE+mono')\n",
    "#ax2.errorbar(ttSqr, ccSqr, yerr=stdSqr, fmt='b.',label='Square+mono')\n",
    "\n",
    "ax2.errorbar(ttGaus, ccGaus, yerr=stdGaus, fmt='.',color='grey')\n",
    "ax2.errorbar(ttSASE, ccSASE, yerr=stdSASE, fmt='.',color='mediumseagreen')\n",
    "ax2.errorbar(ttSqr, ccSqr, yerr=stdSqr, fmt='.',color='sandybrown')\n",
    "\n",
    "ax2.axes.set_xlim([tpulsemin,tpulsemax])\n",
    "if scale == 'log':\n",
    "    ax2.set_yscale('log')\n",
    "\n",
    "# measurement\n",
    "PL95 = np.array([7, 11, 14, 35]);\n",
    "PL95E = np.array([3,5,7,15]);\n",
    "C95 = np.array([0.337, 0.312, 0.310, 0.305])-0.270;\n",
    "C95E = np.array([0.01, 0.005, 0.006, 0.01]);\n",
    "ax2.errorbar(PL95, C95, C95E, PL95E, fmt='.', marker='s', color='r', markersize=8, label='9.5 keV')\n",
    "\n",
    "PL72 = np.array([15,40])\n",
    "PL72E = np.array([6, 15])\n",
    "C72 = np.array([0.279,0.265]) - 0.260\n",
    "C72E = np.array([0.006,0.002])\n",
    "ax2.errorbar(PL72, C72, C72, PL72E, fmt='.', marker='s', color='b', markersize=8, label='7.2 keV')\n",
    "\n",
    "ax2.axes.set_yticks([0,0.04,0.08])\n",
    "#ax2.axes.set_ylim(ax1.axes.get_ylim())\n",
    "#ax2.axes.get_yaxis().set_visible(False)\n",
    "ax2.legend(frameon=False)\n",
    "ax2.axes.set_ylabel('contrast')\n",
    "ax2.axes.set_xlabel('pulse duration (fs)')\n",
    "plt.tight_layout()\n",
    "\n",
    "#dirname = r'C://Users//nanw0//GoogleDrive//SLAC//SLAC-Diling//6. 19 Summer//HBT//Plots_Poster//HBT_variable_analysis//'\n",
    "#plt.savefig(dirname+'trend_tpulse_with_mono_{}-{}fs.png'.format(tpulsemin,tpulsemax),transparent=True)\n",
    "#dirname = r'C:\\\\Users\\\\nanw0\\\\GoogleDrive\\\\SLAC\\\\SLAC-Diling\\\\6. 19 Summer\\\\HBT\\\\Plots_Paper\\\\Contrast_vs_tpulse\\\\'\n",
    "plt.savefig('Contrast_vs_tpulse.eps'.format(tpulsemin,tpulsemax),transparent=True)"
   ]
  },
  {
   "cell_type": "code",
   "execution_count": null,
   "metadata": {},
   "outputs": [],
   "source": []
  }
 ],
 "metadata": {
  "kernelspec": {
   "display_name": "Python 3 (ipykernel)",
   "language": "python",
   "name": "python3"
  },
  "language_info": {
   "codemirror_mode": {
    "name": "ipython",
    "version": 3
   },
   "file_extension": ".py",
   "mimetype": "text/x-python",
   "name": "python",
   "nbconvert_exporter": "python",
   "pygments_lexer": "ipython3",
   "version": "3.8.12"
  }
 },
 "nbformat": 4,
 "nbformat_minor": 2
}
